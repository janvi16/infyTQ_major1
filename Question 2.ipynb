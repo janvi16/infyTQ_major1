{
 "cells": [
  {
   "cell_type": "code",
   "execution_count": 1,
   "metadata": {},
   "outputs": [
    {
     "name": "stdout",
     "output_type": "stream",
     "text": [
      "5\n",
      "Harry\n",
      "37.21\n",
      "Berry\n",
      "37.21\n",
      "Tina\n",
      "37.2\n",
      "Akriti\n",
      "41\n",
      "Harsh\n",
      "39\n",
      "\n",
      "Output: \n",
      "Berry\n",
      "Harry\n"
     ]
    }
   ],
   "source": [
    "d={}\n",
    "\n",
    "for _ in range(int(input())):\n",
    "    name = input()\n",
    "    score = float(input())\n",
    "    d[name]=score\n",
    "        \n",
    "v=d.values()\n",
    "second=sorted(list(set(v)))[1]\n",
    "    \n",
    "second_lowest=[] \n",
    "\n",
    "for key,value in d.items():\n",
    "    if value == second:\n",
    "        second_lowest.append(key)\n",
    "        \n",
    "second_lowest.sort()\n",
    "\n",
    "print(\"\\nOutput: \")\n",
    "for i in second_lowest:\n",
    "    print(i)"
   ]
  },
  {
   "cell_type": "code",
   "execution_count": null,
   "metadata": {},
   "outputs": [],
   "source": []
  }
 ],
 "metadata": {
  "kernelspec": {
   "display_name": "Python 3",
   "language": "python",
   "name": "python3"
  },
  "language_info": {
   "codemirror_mode": {
    "name": "ipython",
    "version": 3
   },
   "file_extension": ".py",
   "mimetype": "text/x-python",
   "name": "python",
   "nbconvert_exporter": "python",
   "pygments_lexer": "ipython3",
   "version": "3.8.5"
  }
 },
 "nbformat": 4,
 "nbformat_minor": 4
}
